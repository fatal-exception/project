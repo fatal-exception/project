{
 "cells": [
  {
   "cell_type": "code",
   "execution_count": 30,
   "metadata": {},
   "outputs": [
    {
     "name": "stdout",
     "output_type": "stream",
     "text": [
      "Dear Minister,\n",
      "Dear Mark,\n",
      "Excellencies,\n",
      "Ladies and Gentlemen,\n",
      "\n",
      "It is indeed a great pleasure to be here this morning in the company of our hosts, representing not only the City of The Hague but the Government of the Netherlands and also with my colleague the OCHA head [USG Mark Lowcock], to open this Centre for Humanitarian Data. \n",
      "\n",
      "This is a signpost for the future. \n",
      "\n",
      "It shows how the technologies that are revolutionizing every aspect of our lives can be harnessed to help and support vulnerable people all over the world. \n",
      "\n",
      "Well, I graduated in engineering and Mark [Lowcock] among many other capacities, is also an expert accountant. So, between a former virtual engineer here and a former real accountant, I think that we can stand side-by-side to support an initiative that uses facts, figures and systems to drive more effective action!\n",
      "\n",
      "We are experiencing extraordinary advances in data science, artificial intelligence and technology that are already having a profound effect on society. Cars drive themselves, machines can learn on their own-  let’s hope they don’t learn too much - and virtual and augmented reality are becoming mainstream. \n",
      "\n",
      "But as these innovations flourish and spread, we also face timeless challenges that are well known to you all: war, famine; mass displacement, violations of basic rights; rising inequality; and environmental degradation - namely with climate change.  \n",
      "\n",
      "These problems, many of which are exacerbated by exactly climate change, have led to huge increases in humanitarian needs. This year’s Global Humanitarian Overview calls for $22.5 billion – \n",
      "the largest amount ever. This to help 91 million people – the most vulnerable of the 136 million affected by crisis across the world. \n",
      "\n",
      "The challenge is to connect innovation and harness it to help these millions of vulnerable people. \n",
      "\n",
      "And this is exactly what brings us here today. \n",
      "\n",
      "And putting data and technology to work for people in crises. \n",
      "\n",
      "And that is the promise of the Centre for Humanitarian Data: to get people the support they need more quickly and efficiently by harnessing the power of data. \n",
      "\n",
      "This centre will help humanitarians to make informed and responsible decisions to meet people’s most urgent needs.  \n",
      "\n",
      "Accurate data is the lifeblood of good policy and decision-making. Obtaining it, and sharing it across hundreds of organizations, in the middle of a humanitarian emergency, is complicated and time-consuming – but it is absolutely crucial. \n",
      "\n",
      "This Centre will make that difficult task far easier, speeding up the flow of data from collection to application. \n",
      "\n",
      "Responders and decision-makers will be able to work with accurate, reliable facts and figures based on real-time situational awareness. \n",
      "\n",
      "I was fascinated to learn that the Humanitarian Data Exchange also has its own language: \n",
      "the Humanitarian Exchange Language. This is becoming a standard across the sector, enabling organizations to communicate more quickly and smoothly. \n",
      "\n",
      "The idea of “a simple standard for messy data” will appeal to anyone like me, who has worked with humanitarian statistics and not always very able to understand them. \n",
      "\n",
      "And the promise of minimizing extra work by maximizing the value of shared information will find favour with our hardworking staff on the front lines. \n",
      "\n",
      "Faster data leads to better decisions and outcomes. \n",
      "\n",
      "It also makes it easier to measure and monitor progress. Which in turn will help aid agencies to analyse their effectiveness, improve their performance and be accountable for their results being able to respond to the eloquent critics coming from the Minister Sigrid [Kaag].  \n",
      "\n",
      "We are already seeing the results of this remarkable innovation. \n",
      "\n",
      "In Nepal, the Humanitarian Data Exchange provided visualizations to illustrate whether humanitarian programmes were meeting people’s needs. The exercise resulted in significant changes to the humanitarian response. \n",
      "\n",
      "Earlier this year, early warning data pointed to a series of record-strength hurricanes heading for the islands of the Caribbean. The Humanitarian Data Exchange was a source of the information that led Governments and international organizations to prepare for the storms and to launch the mass evacuations that saved lives. \n",
      "\n",
      "In Bangladesh today, hundreds of humanitarian organizations are responding to the crisis caused by the arrival of an estimated now 650,000 Rohingya refugees from Myanmar. The Centre for Humanitarian Data is helping to improve their coordination and efficiency. \n",
      "\n",
      "This will focus on three key areas: \n",
      "\n",
      "It will build data-sharing networks that connect academics, technology companies, data specialists and humanitarian organizations. \n",
      "\n",
      "It will help humanitarian staff to improve their data skills and tools. \n",
      "\n",
      "And it will develop and promote policies to ensure that all this data is used responsibly, and that sensitive data is protected. Coming from UNHCR, I know exactly the value of sensitive data to be protected for the protection of people. \n",
      "\n",
      "Humanitarians may have a reputation for being idealists who are a little out-of-touch with reality. But on the contrary, humanitarians are driven by very concrete concerns; that make tough decisions every day and they must constantly seek to improve impact and measure results. \n",
      "\n",
      "This Centre will make their task easier, and I thank all those that were involved in creating it and of course the Dutch Government and the City of Hague for hosting it. \n",
      "\n",
      "I wish you all the best with your work, and also a happy and peaceful holiday season. \n",
      "\n",
      "Thank you.\n",
      "\n"
     ]
    }
   ],
   "source": [
    "from __future__ import print_function\n",
    "import codecs\n",
    "FILE = './data/Remarks_at_opening_of_the_Centre_for_Humanitarian_Data-Antonio_Guterres.txt'\n",
    "text = codecs.open(FILE, encoding='utf-8').read()\n",
    "\n",
    "print(text)"
   ]
  },
  {
   "cell_type": "code",
   "execution_count": 31,
   "metadata": {},
   "outputs": [],
   "source": [
    "# Get average word length\n",
    "from textblob import TextBlob\n",
    "words = TextBlob(text).words\n",
    "avg_word_len = sum([len(w) for w in words])/len(words)\n"
   ]
  },
  {
   "cell_type": "code",
   "execution_count": 86,
   "metadata": {},
   "outputs": [
    {
     "name": "stdout",
     "output_type": "stream",
     "text": [
      "[u' of the', u'of the ', u' Centre', u'Centre ', u're for ', u' Humani', u'Humanit', u'arian D', u'rian Da', u'ian Dat', u'an Data', u'. \\n\\nThi', u' \\n\\nThis', u'\\n\\nThis ', u' for th', u'for the', u'or the ', u' techno', u'technol', u'echnolo', u'chnolog', u's that ', u' that a', u' people', u'people ', u'e that ', u' techno', u'technol', u'echnolo', u'chnolog', u' that a', u' their ', u'ations ', u's that ', u' that a', u'ations ', u' humani', u'humanit', u' Humani', u'Humanit', u' people', u'people ', u' of the', u'of the ', u' people', u'. \\n\\nAnd', u' \\n\\nAnd ', u'. \\n\\nAnd', u' \\n\\nAnd ', u' techno', u'technol', u'echnolo', u'chnolog', u' people', u'people ', u'. \\n\\nAnd', u' \\n\\nAnd ', u' of the', u'of the ', u' Centre', u'Centre ', u're for ', u' Humani', u'Humanit', u'arian D', u'rian Da', u'ian Dat', u'an Data', u' people', u'people ', u'. \\n\\nThi', u' \\n\\nThis', u'\\n\\nThis ', u' humani', u'humanit', u' respon', u' decisi', u'decisio', u'ecision', u'ions to', u'ons to ', u' people', u'ata is ', u' decisi', u'decisio', u'ecision', u' organi', u'organiz', u'rganiza', u'ganizat', u'anizati', u'nizatio', u'ization', u'zations', u' humani', u'humanit', u'. \\n\\nThi', u' \\n\\nThis', u'\\n\\nThis ', u' Centre', u'Centre ', u'e that ', u' decisi', u'decisio', u'ecision', u'he Huma', u'e Human', u' Humani', u'Humanit', u'arian D', u'rian Da', u'ian Dat', u'an Data', u'n Data ', u' Exchan', u'Exchang', u'xchange', u'change ', u'he Huma', u'e Human', u' Humani', u'Humanit', u' Exchan', u'Exchang', u'xchange', u'change ', u' organi', u'organiz', u'rganiza', u'ganizat', u'anizati', u'nizatio', u'ization', u'zations', u'ations ', u'tions t', u'ions to', u'ons to ', u' humani', u'humanit', u'. \\n\\nAnd', u' \\n\\nAnd ', u' decisi', u'decisio', u'ecision', u'e their', u' their ', u' improv', u'improve', u'mprove ', u'e their', u' their ', u' for th', u'for the', u' their ', u' result', u' respon', u' result', u'he Huma', u'e Human', u' Humani', u'Humanit', u'arian D', u'rian Da', u'ian Dat', u'an Data', u'n Data ', u' Exchan', u'Exchang', u'xchange', u'change ', u'ization', u'zations', u'ations ', u'tions t', u'ions to', u'ons to ', u' humani', u'humanit', u' people', u' result', u' humani', u'humanit', u' respon', u' for th', u'for the', u'or the ', u' of the', u'of the ', u'he Huma', u'e Human', u' Humani', u'Humanit', u'arian D', u'rian Da', u'ian Dat', u'an Data', u'n Data ', u' Exchan', u'Exchang', u'xchange', u'change ', u' of the', u'of the ', u' organi', u'organiz', u'rganiza', u'ganizat', u'anizati', u'nizatio', u'ization', u'zations', u'ations ', u'tions t', u'ions to', u'ons to ', u're for ', u' for th', u'for the', u'or the ', u'ations ', u'tions t', u's that ', u' humani', u'humanit', u' organi', u'organiz', u'rganiza', u'ganizat', u'anizati', u'nizatio', u'ization', u'zations', u'ations ', u' respon', u' Centre', u'Centre ', u're for ', u' Humani', u'Humanit', u'arian D', u'rian Da', u'ian Dat', u'an Data', u'n Data ', u'ata is ', u' improv', u'improve', u'mprove ', u'e their', u' their ', u'. \\n\\nThi', u' \\n\\nThis', u'\\n\\nThis ', u's that ', u' techno', u'technol', u'echnolo', u'chnolog', u' humani', u'humanit', u' organi', u'organiz', u'rganiza', u'ganizat', u'anizati', u'nizatio', u'ization', u'zations', u' humani', u'humanit', u' improv', u'improve', u'mprove ', u'e their', u' their ', u'. \\n\\nAnd', u' \\n\\nAnd ', u'e that ', u' that a', u'ata is ', u' respon', u'ata is ', u' for th', u'for the', u'or the ', u' people', u'Humanit', u' humani', u'humanit', u' decisi', u'decisio', u'ecision', u' improv', u'improve', u'mprove ', u' result', u'. \\n\\nThi', u' \\n\\nThis', u'\\n\\nThis ', u' Centre', u'Centre ', u'e their', u' their ', u'e that ']\n"
     ]
    }
   ],
   "source": [
    "from collections import defaultdict\n",
    "\n",
    "win = avg_word_len + 2\n",
    "# for n-grams of win length, we want a count of how many of each of them appear\n",
    "chars = tuple([ch for ch in text])\n",
    "clusters = []\n",
    "counts = defaultdict(int)\n",
    "for i in range(0, len(chars) - win):\n",
    "    cluster = chars[i:i + win]\n",
    "    clusters.append(cluster)\n",
    "    counts[cluster] += 1\n",
    "\n",
    "# Only find clusters frequent enough to be significant,\n",
    "# but not frequent enough to be mundane\n",
    "frequent_clusters = filter(lambda t: counts[t] > 3 and counts[t] < 15 ,clusters)\n",
    "\n",
    "print([\"\".join(cluster) for cluster in frequent_clusters])\n",
    "\n"
   ]
  }
 ],
 "metadata": {
  "kernelspec": {
   "display_name": "Python 2",
   "language": "python",
   "name": "python2"
  },
  "language_info": {
   "codemirror_mode": {
    "name": "ipython",
    "version": 2
   },
   "file_extension": ".py",
   "mimetype": "text/x-python",
   "name": "python",
   "nbconvert_exporter": "python",
   "pygments_lexer": "ipython2",
   "version": "2.7.14"
  }
 },
 "nbformat": 4,
 "nbformat_minor": 2
}
